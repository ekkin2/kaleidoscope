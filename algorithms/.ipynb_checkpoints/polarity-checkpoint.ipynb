{
 "cells": [
  {
   "cell_type": "markdown",
   "metadata": {},
   "source": [
    "# Polarity Ranking Algorithm"
   ]
  },
  {
   "cell_type": "markdown",
   "metadata": {},
   "source": [
    "## Import Libraries"
   ]
  },
  {
   "cell_type": "code",
   "execution_count": 198,
   "metadata": {},
   "outputs": [],
   "source": [
    "import numpy as np\n",
    "import pandas as pd\n",
    "import matplotlib.pyplot as plt\n",
    "from tqdm.notebook import tqdm \n",
    "\n",
    "import re\n",
    "import nltk\n",
    "import string\n",
    "from nltk.corpus import stopwords\n",
    "\n",
    "from sklearn.model_selection import train_test_split\n",
    "\n",
    "import tensorflow as tf\n",
    "from tensorflow.keras import Input\n",
    "from tensorflow.keras.models import Sequential, Model\n",
    "from tensorflow.keras.layers import Dense, LSTM, Reshape, Bidirectional\n",
    "from tensorflow.keras import backend as K\n",
    "\n",
    "import gensim.downloader as api\n",
    "\n",
    "from snorkel.labeling import labeling_function"
   ]
  },
  {
   "cell_type": "markdown",
   "metadata": {},
   "source": [
    "## Load Dataset\n",
    "\n",
    "The Pandas DataFrame will consist of the following fields: \n",
    "* **Source**\n",
    "* **Title** \n",
    "* **Content**\n",
    "* **Bias**"
   ]
  },
  {
   "cell_type": "code",
   "execution_count": 64,
   "metadata": {},
   "outputs": [],
   "source": [
    "csv_filepath = 'polarity_datset.csv'"
   ]
  },
  {
   "cell_type": "code",
   "execution_count": 62,
   "metadata": {},
   "outputs": [],
   "source": [
    "# import numpy as np\n",
    "# import pandas as pd\n",
    "# # from snorkel.labeling import labeling_function\n",
    "\n",
    "# import json\n",
    "# import glob\n",
    "\n",
    "# import os\n",
    "\n",
    "# # json_dir = \n",
    "# bias_dict = {\"abcnews.json\": \"left\", \"addictinginfo.json\": \"left\", \"airwars.json\": \"center\", \"anonymousconservative.json\": \"right\", \"bbc.json\": \"center\", \"bearingarms.json\": \"right\", \"bigleaguepolitics.json\": \"right\", \"bipartisanreport.json\": \"left\", \"breitbart.json\": \"right\", \"businessinsider.json\": \"center\", \"buzzfeed.json\": \"left\", \"cbsnews.json\": \"left\", \"chicagotribune.json\": \"center\", \"citizenfreepress.json\": \"right\", \"clashdaily.json\": \"right\", \"cnbc\": \"center\", \"cnn.json\": \"left\", \"cnsnews.json\": \"right\", \"crooksandliars.json\": \"left\", \"csmonitor.json\": \"center\", \"dailybeast.json\": \"left\", \"dailykos.json\": \"left\", \"dailymail.json\": \"right\", \"dailysignal.json\": \"right\", \"dailystormer.json\": \"right\", \"democracynow.json\": \"left\", \"drudgereport.json\": \"right\", \"fivethirtyeight.json\": \"center\", \"foreignpolicy.json\": \"left\", \"fortune.json\": \"center\", \"foxnews.json\": \"right\", \"freebeacon.json\": \"right\", \"hangthebankers.json\": \"right\", \"infowars.json\": \"right\", \"intellectualconservative.json\": \"right\", \"liveaction.json\": \"right\", \"mcclatchydc.json\": \"center\", \"mercurynews.json\": \"left\", \"motherjones.json\": \"left\", \"msnbc.json\": \"left\", \"nationalinterest.json\": \"center\", \"nationalreview.json\": \"right\", \"newyorkdailynews.json\": \"left\", \"newyorker.json\": \"left\", \"newyorkpost.json\": \"right\", \"npr.json\": \"center\", \"pbs.json\": \"center\", \"politico.json\": \"left\", \"rawstory.json\": \"left\", \"redstate.json\": \"right\", \"reuters.json\": \"center\", \"rollcall.json\": \"center\", \"salon.json\": \"left\", \"slate.json\": \"left\", \"theamericanconservative.json\": \"right\", \"theatlantic.json\": \"left\", \"thecollegefix.json\": \"right\", \"thedailycaller.json\": \"right\", \"theepochtimes.json\": \"right\", \"thegatewaypundit.json\": \"right\", \"theguardian.json\": \"left\", \"thehill.json\": \"center\", \"theindependent.json\": \"left\", \"theintercept.json\": \"left\", \"thenewyorktimes.json\": \"left\", \"theonion.json\": \"left\", \"theseattletimes.json\": \"center\", \"thetelegraph.json\": \"right\", \"theverge.json\": \"left\", \"usatoday.json\": \"center\", \"vox.json\": \"left\", \"washingtonmonthly.json\": \"left\", \"washingtonpost.json\": \"left\", \"westernjournal.json\": \"right\", \"wnd.json\": \"right\"}\n",
    "\n",
    "# # for all files in directory\n",
    "\n",
    "# json_files = [pos_json for pos_json in os.listdir('nela-eng-2019/') if pos_json.endswith('.json')]\n",
    "# # print(json_files)\n",
    "\n",
    "# # for file in json_files:\n",
    "# # \tprint(len(file))\n",
    "\n",
    "# # here I define my pandas Dataframe with the columns I want to get from the json\n",
    "# df = pd.DataFrame()\n",
    "# # columns=[\"id\", \"date\", \"source\", \"title\", \"content\", \"author\", \"url\", \"published\", \"published_utc\", \"collection_utc\"]\n",
    "\n",
    "# '''\n",
    "# df = pd.read_json(\"nela-eng-2019/abcnews.json\")\n",
    "# df[\"bias\"] = bias_dict[\"abcnews.json\"]\n",
    "# print(len(df))\n",
    "# print(df.head())\n",
    "# '''\n",
    "\n",
    "# # we need both the json and an index number so use enumerate()\n",
    "\n",
    "# # row_number = 0\n",
    "# file_number = 0\n",
    "# for index, js in tqdm(enumerate(json_files)):\n",
    "#     with open(os.path.join('nela-eng-2019/', js)) as json_file:\n",
    "#         # print(json_file)\n",
    "\n",
    "#         json_file_path = os.path.join('nela-eng-2019/', js)\n",
    "#         # print(json_file_path)\n",
    "#         if file_number == 173:\n",
    "#         \tfile_number += 1\n",
    "#         \tcontinue\n",
    "#         # json_text = json.load(json_file)\n",
    "#         # print(js)\n",
    "\n",
    "#         if js in bias_dict:\n",
    "#         \tnext_file = pd.read_json(json_file_path)\n",
    "#         \t# add bias to the last column\n",
    "#         \tnext_file[\"bias\"] = bias_dict[js]\n",
    "#         \t# print(next_file.head())\n",
    "#         \tdf = df.append(next_file)\n",
    "#         # print(file_number)\n",
    "#         file_number += 1\n"
   ]
  },
  {
   "cell_type": "code",
   "execution_count": null,
   "metadata": {},
   "outputs": [],
   "source": [
    "df.to_csv('csv_filepath.csv')"
   ]
  },
  {
   "cell_type": "code",
   "execution_count": 69,
   "metadata": {},
   "outputs": [
    {
     "data": {
      "text/html": [
       "<div>\n",
       "<style scoped>\n",
       "    .dataframe tbody tr th:only-of-type {\n",
       "        vertical-align: middle;\n",
       "    }\n",
       "\n",
       "    .dataframe tbody tr th {\n",
       "        vertical-align: top;\n",
       "    }\n",
       "\n",
       "    .dataframe thead th {\n",
       "        text-align: right;\n",
       "    }\n",
       "</style>\n",
       "<table border=\"1\" class=\"dataframe\">\n",
       "  <thead>\n",
       "    <tr style=\"text-align: right;\">\n",
       "      <th></th>\n",
       "      <th>id</th>\n",
       "      <th>date</th>\n",
       "      <th>source</th>\n",
       "      <th>title</th>\n",
       "      <th>content</th>\n",
       "      <th>author</th>\n",
       "      <th>url</th>\n",
       "      <th>published</th>\n",
       "      <th>published_utc</th>\n",
       "      <th>collection_utc</th>\n",
       "      <th>bias</th>\n",
       "    </tr>\n",
       "  </thead>\n",
       "  <tbody>\n",
       "    <tr>\n",
       "      <th>0</th>\n",
       "      <td>abcnews--2019-01-30--Who is Stacey Abrams the ...</td>\n",
       "      <td>2019-01-30</td>\n",
       "      <td>abcnews</td>\n",
       "      <td>Who is Stacey Abrams, the Democrat who will re...</td>\n",
       "      <td>Last November, Stacey Abrams, a Democrat who r...</td>\n",
       "      <td>Cheyenne Haslett</td>\n",
       "      <td>https://abcnews.go.com/Politics/stacey-abrams-...</td>\n",
       "      <td>2019-01-30 19:10:47+00:00</td>\n",
       "      <td>1548893447</td>\n",
       "      <td>1567550233</td>\n",
       "      <td>left</td>\n",
       "    </tr>\n",
       "    <tr>\n",
       "      <th>1</th>\n",
       "      <td>abcnews--2019-01-30--Ban government shutdowns ...</td>\n",
       "      <td>2019-01-30</td>\n",
       "      <td>abcnews</td>\n",
       "      <td>Ban government shutdowns? Some Republicans and...</td>\n",
       "      <td>As lawmakers scramble to negotiate a border se...</td>\n",
       "      <td>Benjamin Siegel,\\nTrish Turner\\n</td>\n",
       "      <td>https://abcnews.go.com/Politics/ban-government...</td>\n",
       "      <td>2019-01-30 17:29:04+00:00</td>\n",
       "      <td>1548887344</td>\n",
       "      <td>1567550233</td>\n",
       "      <td>left</td>\n",
       "    </tr>\n",
       "    <tr>\n",
       "      <th>2</th>\n",
       "      <td>abcnews--2019-01-30--Democrats renew push for ...</td>\n",
       "      <td>2019-01-30</td>\n",
       "      <td>abcnews</td>\n",
       "      <td>Democrats renew push for equal pay for equal work</td>\n",
       "      <td>Ten years after President Barack Obama signed ...</td>\n",
       "      <td>John Parkinson</td>\n",
       "      <td>https://abcnews.go.com/Politics/dems-renew-pus...</td>\n",
       "      <td>2019-01-30 21:35:45+00:00</td>\n",
       "      <td>1548902145</td>\n",
       "      <td>1567550233</td>\n",
       "      <td>left</td>\n",
       "    </tr>\n",
       "    <tr>\n",
       "      <th>3</th>\n",
       "      <td>abcnews--2019-01-30--Trump attacks intel chief...</td>\n",
       "      <td>2019-01-30</td>\n",
       "      <td>abcnews</td>\n",
       "      <td>Trump attacks intel chiefs after they contradi...</td>\n",
       "      <td>President Donald Trump on Wednesday declared \"...</td>\n",
       "      <td>Meridith Mcgraw</td>\n",
       "      <td>https://abcnews.go.com/Politics/trump-attacks-...</td>\n",
       "      <td>2019-01-30 17:03:40+00:00</td>\n",
       "      <td>1548885820</td>\n",
       "      <td>1567550233</td>\n",
       "      <td>left</td>\n",
       "    </tr>\n",
       "    <tr>\n",
       "      <th>4</th>\n",
       "      <td>abcnews--2019-01-30--Border security battle be...</td>\n",
       "      <td>2019-01-30</td>\n",
       "      <td>abcnews</td>\n",
       "      <td>Border security battle begins as Congress grap...</td>\n",
       "      <td>Republicans and Democrats on the exclusive com...</td>\n",
       "      <td>John Parkinson,\\nBenjamin Siegel\\n</td>\n",
       "      <td>https://abcnews.go.com/Politics/border-securit...</td>\n",
       "      <td>2019-01-30 15:09:47+00:00</td>\n",
       "      <td>1548878987</td>\n",
       "      <td>1567550233</td>\n",
       "      <td>left</td>\n",
       "    </tr>\n",
       "  </tbody>\n",
       "</table>\n",
       "</div>"
      ],
      "text/plain": [
       "                                                  id       date   source  \\\n",
       "0  abcnews--2019-01-30--Who is Stacey Abrams the ... 2019-01-30  abcnews   \n",
       "1  abcnews--2019-01-30--Ban government shutdowns ... 2019-01-30  abcnews   \n",
       "2  abcnews--2019-01-30--Democrats renew push for ... 2019-01-30  abcnews   \n",
       "3  abcnews--2019-01-30--Trump attacks intel chief... 2019-01-30  abcnews   \n",
       "4  abcnews--2019-01-30--Border security battle be... 2019-01-30  abcnews   \n",
       "\n",
       "                                               title  \\\n",
       "0  Who is Stacey Abrams, the Democrat who will re...   \n",
       "1  Ban government shutdowns? Some Republicans and...   \n",
       "2  Democrats renew push for equal pay for equal work   \n",
       "3  Trump attacks intel chiefs after they contradi...   \n",
       "4  Border security battle begins as Congress grap...   \n",
       "\n",
       "                                             content  \\\n",
       "0  Last November, Stacey Abrams, a Democrat who r...   \n",
       "1  As lawmakers scramble to negotiate a border se...   \n",
       "2  Ten years after President Barack Obama signed ...   \n",
       "3  President Donald Trump on Wednesday declared \"...   \n",
       "4  Republicans and Democrats on the exclusive com...   \n",
       "\n",
       "                               author  \\\n",
       "0                    Cheyenne Haslett   \n",
       "1    Benjamin Siegel,\\nTrish Turner\\n   \n",
       "2                      John Parkinson   \n",
       "3                     Meridith Mcgraw   \n",
       "4  John Parkinson,\\nBenjamin Siegel\\n   \n",
       "\n",
       "                                                 url  \\\n",
       "0  https://abcnews.go.com/Politics/stacey-abrams-...   \n",
       "1  https://abcnews.go.com/Politics/ban-government...   \n",
       "2  https://abcnews.go.com/Politics/dems-renew-pus...   \n",
       "3  https://abcnews.go.com/Politics/trump-attacks-...   \n",
       "4  https://abcnews.go.com/Politics/border-securit...   \n",
       "\n",
       "                   published  published_utc  collection_utc  bias  \n",
       "0  2019-01-30 19:10:47+00:00     1548893447      1567550233  left  \n",
       "1  2019-01-30 17:29:04+00:00     1548887344      1567550233  left  \n",
       "2  2019-01-30 21:35:45+00:00     1548902145      1567550233  left  \n",
       "3  2019-01-30 17:03:40+00:00     1548885820      1567550233  left  \n",
       "4  2019-01-30 15:09:47+00:00     1548878987      1567550233  left  "
      ]
     },
     "execution_count": 69,
     "metadata": {},
     "output_type": "execute_result"
    }
   ],
   "source": [
    "df.head()"
   ]
  },
  {
   "cell_type": "code",
   "execution_count": 184,
   "metadata": {},
   "outputs": [],
   "source": [
    "dset = df.sample(frac=.1)"
   ]
  },
  {
   "cell_type": "code",
   "execution_count": 185,
   "metadata": {},
   "outputs": [
    {
     "name": "stdout",
     "output_type": "stream",
     "text": [
      "34714\n"
     ]
    }
   ],
   "source": [
    "print(len(dset))"
   ]
  },
  {
   "cell_type": "markdown",
   "metadata": {},
   "source": [
    "## Labeling Functions"
   ]
  },
  {
   "cell_type": "code",
   "execution_count": 2,
   "metadata": {},
   "outputs": [],
   "source": [
    "# Define the label mappings for convenience\n",
    "ABSTAIN = -1\n",
    "LEFT = 0\n",
    "CENTER = 1\n",
    "RIGHT = 2"
   ]
  },
  {
   "cell_type": "code",
   "execution_count": 22,
   "metadata": {},
   "outputs": [],
   "source": [
    "phrases = pd.read_csv('all_phrases.csv')"
   ]
  },
  {
   "cell_type": "code",
   "execution_count": null,
   "metadata": {},
   "outputs": [],
   "source": [
    "left_phrases = pd.read_csv('top_20_democrat.csv')\n",
    "right_phrases = pd.read_csv('top_20_republican.csv')"
   ]
  },
  {
   "cell_type": "code",
   "execution_count": 24,
   "metadata": {},
   "outputs": [
    {
     "name": "stdout",
     "output_type": "stream",
     "text": [
      "7973\n"
     ]
    }
   ],
   "source": [
    "print(len(phrases))"
   ]
  },
  {
   "cell_type": "code",
   "execution_count": 36,
   "metadata": {},
   "outputs": [
    {
     "data": {
      "text/html": [
       "<div>\n",
       "<style scoped>\n",
       "    .dataframe tbody tr th:only-of-type {\n",
       "        vertical-align: middle;\n",
       "    }\n",
       "\n",
       "    .dataframe tbody tr th {\n",
       "        vertical-align: top;\n",
       "    }\n",
       "\n",
       "    .dataframe thead th {\n",
       "        text-align: right;\n",
       "    }\n",
       "</style>\n",
       "<table border=\"1\" class=\"dataframe\">\n",
       "  <thead>\n",
       "    <tr style=\"text-align: right;\">\n",
       "      <th></th>\n",
       "      <th>phrase</th>\n",
       "      <th>total_occurrences</th>\n",
       "      <th>bias_score</th>\n",
       "      <th>p_dem</th>\n",
       "      <th>p_rep</th>\n",
       "      <th>n_dem</th>\n",
       "      <th>n_rep</th>\n",
       "    </tr>\n",
       "  </thead>\n",
       "  <tbody>\n",
       "    <tr>\n",
       "      <th>0</th>\n",
       "      <td>health</td>\n",
       "      <td>21070</td>\n",
       "      <td>-0.347822</td>\n",
       "      <td>2.731629</td>\n",
       "      <td>1.321768</td>\n",
       "      <td>15278</td>\n",
       "      <td>5562</td>\n",
       "    </tr>\n",
       "    <tr>\n",
       "      <th>1</th>\n",
       "      <td>senator</td>\n",
       "      <td>17989</td>\n",
       "      <td>-0.084759</td>\n",
       "      <td>1.925979</td>\n",
       "      <td>1.625000</td>\n",
       "      <td>10772</td>\n",
       "      <td>6838</td>\n",
       "    </tr>\n",
       "    <tr>\n",
       "      <th>2</th>\n",
       "      <td>president</td>\n",
       "      <td>16663</td>\n",
       "      <td>-0.099725</td>\n",
       "      <td>1.835509</td>\n",
       "      <td>1.502614</td>\n",
       "      <td>10266</td>\n",
       "      <td>6323</td>\n",
       "    </tr>\n",
       "    <tr>\n",
       "      <th>3</th>\n",
       "      <td>act</td>\n",
       "      <td>15494</td>\n",
       "      <td>-0.050733</td>\n",
       "      <td>1.630610</td>\n",
       "      <td>1.473146</td>\n",
       "      <td>9120</td>\n",
       "      <td>6199</td>\n",
       "    </tr>\n",
       "    <tr>\n",
       "      <th>4</th>\n",
       "      <td>senate</td>\n",
       "      <td>13020</td>\n",
       "      <td>0.060186</td>\n",
       "      <td>1.248167</td>\n",
       "      <td>1.408032</td>\n",
       "      <td>6981</td>\n",
       "      <td>5925</td>\n",
       "    </tr>\n",
       "  </tbody>\n",
       "</table>\n",
       "</div>"
      ],
      "text/plain": [
       "      phrase  total_occurrences  bias_score     p_dem     p_rep  n_dem  n_rep\n",
       "0     health              21070   -0.347822  2.731629  1.321768  15278   5562\n",
       "1    senator              17989   -0.084759  1.925979  1.625000  10772   6838\n",
       "2  president              16663   -0.099725  1.835509  1.502614  10266   6323\n",
       "3        act              15494   -0.050733  1.630610  1.473146   9120   6199\n",
       "4     senate              13020    0.060186  1.248167  1.408032   6981   5925"
      ]
     },
     "execution_count": 36,
     "metadata": {},
     "output_type": "execute_result"
    }
   ],
   "source": [
    "phrases.head()"
   ]
  },
  {
   "cell_type": "code",
   "execution_count": 57,
   "metadata": {},
   "outputs": [
    {
     "data": {
      "text/html": [
       "<div>\n",
       "<style scoped>\n",
       "    .dataframe tbody tr th:only-of-type {\n",
       "        vertical-align: middle;\n",
       "    }\n",
       "\n",
       "    .dataframe tbody tr th {\n",
       "        vertical-align: top;\n",
       "    }\n",
       "\n",
       "    .dataframe thead th {\n",
       "        text-align: right;\n",
       "    }\n",
       "</style>\n",
       "<table border=\"1\" class=\"dataframe\">\n",
       "  <thead>\n",
       "    <tr style=\"text-align: right;\">\n",
       "      <th></th>\n",
       "      <th>total_occurrences</th>\n",
       "      <th>bias_score</th>\n",
       "      <th>p_dem</th>\n",
       "      <th>p_rep</th>\n",
       "      <th>n_dem</th>\n",
       "      <th>n_rep</th>\n",
       "    </tr>\n",
       "  </thead>\n",
       "  <tbody>\n",
       "    <tr>\n",
       "      <th>count</th>\n",
       "      <td>7973.000000</td>\n",
       "      <td>7973.000000</td>\n",
       "      <td>7973.000000</td>\n",
       "      <td>7973.000000</td>\n",
       "      <td>7973.000000</td>\n",
       "      <td>7973.000000</td>\n",
       "    </tr>\n",
       "    <tr>\n",
       "      <th>mean</th>\n",
       "      <td>396.731594</td>\n",
       "      <td>-0.118258</td>\n",
       "      <td>0.043922</td>\n",
       "      <td>0.035070</td>\n",
       "      <td>245.653205</td>\n",
       "      <td>147.574313</td>\n",
       "    </tr>\n",
       "    <tr>\n",
       "      <th>std</th>\n",
       "      <td>958.806287</td>\n",
       "      <td>0.336175</td>\n",
       "      <td>0.109600</td>\n",
       "      <td>0.083713</td>\n",
       "      <td>612.992919</td>\n",
       "      <td>352.264237</td>\n",
       "    </tr>\n",
       "    <tr>\n",
       "      <th>min</th>\n",
       "      <td>50.000000</td>\n",
       "      <td>-1.000000</td>\n",
       "      <td>0.000000</td>\n",
       "      <td>0.000000</td>\n",
       "      <td>0.000000</td>\n",
       "      <td>0.000000</td>\n",
       "    </tr>\n",
       "    <tr>\n",
       "      <th>25%</th>\n",
       "      <td>87.000000</td>\n",
       "      <td>-0.305778</td>\n",
       "      <td>0.009297</td>\n",
       "      <td>0.007129</td>\n",
       "      <td>52.000000</td>\n",
       "      <td>30.000000</td>\n",
       "    </tr>\n",
       "    <tr>\n",
       "      <th>50%</th>\n",
       "      <td>150.000000</td>\n",
       "      <td>-0.116600</td>\n",
       "      <td>0.016092</td>\n",
       "      <td>0.013070</td>\n",
       "      <td>90.000000</td>\n",
       "      <td>55.000000</td>\n",
       "    </tr>\n",
       "    <tr>\n",
       "      <th>75%</th>\n",
       "      <td>329.000000</td>\n",
       "      <td>0.061310</td>\n",
       "      <td>0.036832</td>\n",
       "      <td>0.029705</td>\n",
       "      <td>206.000000</td>\n",
       "      <td>125.000000</td>\n",
       "    </tr>\n",
       "    <tr>\n",
       "      <th>max</th>\n",
       "      <td>21070.000000</td>\n",
       "      <td>1.000000</td>\n",
       "      <td>2.731629</td>\n",
       "      <td>1.625000</td>\n",
       "      <td>15278.000000</td>\n",
       "      <td>6838.000000</td>\n",
       "    </tr>\n",
       "  </tbody>\n",
       "</table>\n",
       "</div>"
      ],
      "text/plain": [
       "       total_occurrences   bias_score        p_dem        p_rep         n_dem  \\\n",
       "count        7973.000000  7973.000000  7973.000000  7973.000000   7973.000000   \n",
       "mean          396.731594    -0.118258     0.043922     0.035070    245.653205   \n",
       "std           958.806287     0.336175     0.109600     0.083713    612.992919   \n",
       "min            50.000000    -1.000000     0.000000     0.000000      0.000000   \n",
       "25%            87.000000    -0.305778     0.009297     0.007129     52.000000   \n",
       "50%           150.000000    -0.116600     0.016092     0.013070     90.000000   \n",
       "75%           329.000000     0.061310     0.036832     0.029705    206.000000   \n",
       "max         21070.000000     1.000000     2.731629     1.625000  15278.000000   \n",
       "\n",
       "             n_rep  \n",
       "count  7973.000000  \n",
       "mean    147.574313  \n",
       "std     352.264237  \n",
       "min       0.000000  \n",
       "25%      30.000000  \n",
       "50%      55.000000  \n",
       "75%     125.000000  \n",
       "max    6838.000000  "
      ]
     },
     "execution_count": 57,
     "metadata": {},
     "output_type": "execute_result"
    }
   ],
   "source": [
    "phrases.describe()"
   ]
  },
  {
   "cell_type": "code",
   "execution_count": 56,
   "metadata": {},
   "outputs": [
    {
     "name": "stdout",
     "output_type": "stream",
     "text": [
      "-0.3478220371078708\n",
      "-0.0847594171885326\n",
      "-0.09972509372533812\n",
      "-0.050733143606857656\n",
      "0.060185598644335335\n"
     ]
    }
   ],
   "source": [
    "i = 0\n",
    "for row in phrases.iterrows():\n",
    "    i += 1\n",
    "    if i > 5: \n",
    "        break\n",
    "    print(row[1]['bias_score'])"
   ]
  },
  {
   "cell_type": "code",
   "execution_count": 25,
   "metadata": {},
   "outputs": [],
   "source": [
    "def clean_text(x): \n",
    "    '''\n",
    "    This function takes in raw text as a string, and cleans it\n",
    "    by removing extraneous text. \n",
    "    '''\n",
    "#     nltk.download()\n",
    "#     stop_words = stopwords.words(\"english\")\n",
    "    x = x.lower()\n",
    "#     x = ' '.join([word for word in x.split(' ') if word not in stop_words])\n",
    "    x = x.encode('ascii', 'ignore').decode()\n",
    "    x = re.sub(r'https*\\S+', ' ', x)\n",
    "    x = re.sub(r'@\\S+', ' ', x)\n",
    "    x = re.sub(r'#\\S+', ' ', x)\n",
    "    x = re.sub(r'\\'\\w+', '', x)\n",
    "    x = re.sub('[%s]' % re.escape(string.punctuation), ' ', x)\n",
    "    x = re.sub(r'\\w*\\d+\\w*', '', x)\n",
    "    x = re.sub(r'\\s{2,}', ' ', x)\n",
    "    return x"
   ]
  },
  {
   "cell_type": "code",
   "execution_count": 199,
   "metadata": {},
   "outputs": [],
   "source": [
    "@labeling_function()\n",
    "def lf_source_eval(x): \n",
    "    if x.bias == 'left':\n",
    "        return LEFT \n",
    "    elif x.bias == 'center':\n",
    "        return CENTER\n",
    "    elif x.bias == 'right':\n",
    "        return RIGHT\n",
    "    \n",
    "def count_occurrences(word, content):\n",
    "    return content.count(word)\n",
    "\n",
    "# def thresholds(): \n",
    "#     return \n",
    "    \n",
    "@labeling_function()\n",
    "def lf_phrase_score(x): \n",
    "    '''\n",
    "    Given x, a row in a pandas dataframe, determine how many times an \n",
    "    article contains a set number of phrases\n",
    "    '''\n",
    "    text = clean_text(x.content)\n",
    "    \n",
    "    # for each phrase\n",
    "    sum_score = 0\n",
    "    sum_count = 0\n",
    "    for row in phrases.iterrows():\n",
    "        phrase = row[1]['phrase']\n",
    "        count = count_occurences(phrase, text)\n",
    "        score = count * row[1]['bias_score']\n",
    "        sum_score = sum_score + score \n",
    "        sum_count = sum_count + count\n",
    "    avg = sum_score / sum_count\n",
    "    \n",
    "    left_thresh = -0.305778\n",
    "    right_thresh = 0.061310\n",
    "    \n",
    "    if counts > .10 * len(text):\n",
    "        if avg < left_thresh: \n",
    "            return LEFT\n",
    "        elif avg > right_thresh: \n",
    "            return RIGHT\n",
    "        else: \n",
    "            return CENTER\n",
    "    else: \n",
    "        return ABSTAIN\n",
    "\n",
    "@labeling_function()\n",
    "def lf_contains_left_keywords(x): \n",
    "    text = clean_text(x.content)\n",
    "    sum_count = 0\n",
    "    \n",
    "    for row in left_phrases.iterrows():\n",
    "        phrase = row[1]['phrase']\n",
    "        count = count_occurences(phrase, text)\n",
    "        sum_count = sum_count + count\n",
    "        \n",
    "    if sum_count > .05 * len(text): \n",
    "        return LEFT\n",
    "    else:  \n",
    "        return ABSTAIN\n",
    "\n",
    "@labeling_function()\n",
    "def lf_contains_right_keywords(x): \n",
    "    text = clean_text(x.content)\n",
    "    sum_count = 0\n",
    "    \n",
    "    for row in right_phrases.iterrows():\n",
    "        phrase = row[1]['phrase']\n",
    "        count = count_occurences(phrase, text)\n",
    "        sum_count = sum_count + count\n",
    "        \n",
    "    if sum_count > .05 * len(text): \n",
    "        return LEFT\n",
    "    else:  \n",
    "        return ABSTAIN"
   ]
  },
  {
   "cell_type": "markdown",
   "metadata": {},
   "source": [
    "## Machine Learning Model\n",
    "\n",
    "This deep learning model accepts as input a tokenized corpus of text (news article) and learns to output a polarity ranking on a scale from 0 to 1.\n",
    "\n",
    "The steps for the deep learning model are outlined below: \n",
    "* Have pandas df with text, and label\n",
    "* Preprocess raw article text and tokenize. \n",
    "* Embedding it using Word2Vec method \n",
    "* Use gensim word encoder and average all the vectors from the article.\n",
    "* Train a logistic regression model with all features\n",
    "\n",
    "Initial Task: Binary Classifcation (Left vs. Right)"
   ]
  },
  {
   "cell_type": "markdown",
   "metadata": {},
   "source": [
    "### Data Preprocessing\n",
    "* May want to experiment with: https://github.com/UKPLab/sentence-transformers for sentence embedding instead of word by word embedding\n",
    "* Also could try Big Bird Transformer if we have time. "
   ]
  },
  {
   "cell_type": "code",
   "execution_count": 186,
   "metadata": {},
   "outputs": [],
   "source": [
    "def get_data(data): \n",
    "#     data = pd.read_csv(data_path)\n",
    "    content = list(data['content'])\n",
    "    labels = list(data['bias'])\n",
    "    return content, labels"
   ]
  },
  {
   "cell_type": "code",
   "execution_count": 147,
   "metadata": {},
   "outputs": [],
   "source": [
    "## Output text and labels \n",
    "def load_wv():\n",
    "    # this line of code needs to run asynchronously first\n",
    "    wv = api.load('word2vec-google-news-300')\n",
    "    return wv\n",
    "\n",
    "def preprocess_text(text): \n",
    "    X = []\n",
    "    found_words = []\n",
    "\n",
    "    text = clean_text(text)\n",
    "    words = text.split()\n",
    "    for word in words: \n",
    "        try:\n",
    "            # creates 300 vectors per word\n",
    "            found_words.append(wv[word])\n",
    "#             print('here')\n",
    "        except: \n",
    "            continue\n",
    "      \n",
    "    embedding = np.asarray(found_words)\n",
    "    mean = np.mean(embedding, axis=0)\n",
    "    mean = mean.tolist()\n",
    "\n",
    "    if type(mean) == list: \n",
    "        X.append(mean)\n",
    "\n",
    "    X = np.array(X)\n",
    "    return X\n",
    "\n",
    "def preprocess_label(label): \n",
    "    '''\n",
    "    This function converts text labels to numerical labels \n",
    "    '''\n",
    "    if label == 'left':\n",
    "        return 0\n",
    "    elif label == 'center': \n",
    "        return 1\n",
    "    elif label == 'right': \n",
    "        return 2"
   ]
  },
  {
   "cell_type": "code",
   "execution_count": 71,
   "metadata": {},
   "outputs": [],
   "source": [
    "## todo: for gautham, load this on init\n",
    "# wv = load_wv()"
   ]
  },
  {
   "cell_type": "code",
   "execution_count": 72,
   "metadata": {},
   "outputs": [],
   "source": [
    "# text = \"Lorem Ipsum is simply dummy text of the printing and typesetting industry. Lorem Ipsum has been the industry's standard dummy text ever since the 1500s, when an unknown printer took a galley of type and scrambled it to make a type specimen book. It has survived not only five centuries, but also the leap into electronic typesetting, remaining essentially unchanged. It was popularised in the 1960s with the release of Letraset sheets containing Lorem Ipsum passages, and more recently with desktop publishing software like Aldus PageMaker including versions of Lorem Ipsum.\"\n",
    "# clean_txt = clean_text(text)\n",
    "# print(clean_txt)\n",
    "# print(count_occurrences('lorem ipsum', clean_txt))\n",
    "# xx = preprocess_text(text)\n",
    "# print(xx.shape)"
   ]
  },
  {
   "cell_type": "code",
   "execution_count": 183,
   "metadata": {},
   "outputs": [],
   "source": [
    "def create_dataset(X, y):\n",
    "    X_dset = []\n",
    "    y_dset = []\n",
    "    # for each transcript and label\n",
    "    for i in tqdm(range(len(X))):\n",
    "        text = X[i]\n",
    "        lbl = y[i]\n",
    "        \n",
    "        try: \n",
    "            X_processed = preprocess_text(text)[0]\n",
    "            y_processed = preprocess_label(lbl)\n",
    "        except: \n",
    "            continue\n",
    "#         print(X_processed)\n",
    "#         X_processed = X_processed.tolist()\n",
    "        \n",
    "        X_dset.append(X_processed)\n",
    "        y_dset.append(y_processed)\n",
    "    \n",
    "    X_dset = np.asarray(X_dset)\n",
    "    y_dset = np.array(y_dset)\n",
    "    return X_dset, y_dset"
   ]
  },
  {
   "cell_type": "code",
   "execution_count": 187,
   "metadata": {},
   "outputs": [],
   "source": [
    "X, y = get_data(df)"
   ]
  },
  {
   "cell_type": "code",
   "execution_count": 189,
   "metadata": {},
   "outputs": [
    {
     "data": {
      "application/vnd.jupyter.widget-view+json": {
       "model_id": "6cabe1612e15477d964ef40c45cfddcb",
       "version_major": 2,
       "version_minor": 0
      },
      "text/plain": [
       "HBox(children=(FloatProgress(value=0.0, max=34714.0), HTML(value='')))"
      ]
     },
     "metadata": {},
     "output_type": "display_data"
    },
    {
     "name": "stdout",
     "output_type": "stream",
     "text": [
      "\n"
     ]
    }
   ],
   "source": [
    "X_dset, y_dset = create_dataset(X, y)"
   ]
  },
  {
   "cell_type": "code",
   "execution_count": 190,
   "metadata": {},
   "outputs": [
    {
     "name": "stdout",
     "output_type": "stream",
     "text": [
      "X_dset shape:  (34653, 300)\n",
      "y_dset shape:  (34653,)\n"
     ]
    }
   ],
   "source": [
    "print('X_dset shape: ', X_dset.shape)\n",
    "print('y_dset shape: ', y_dset.shape)"
   ]
  },
  {
   "cell_type": "code",
   "execution_count": 195,
   "metadata": {},
   "outputs": [
    {
     "name": "stdout",
     "output_type": "stream",
     "text": [
      "(array([0, 1, 2]), array([14186,  6129, 14338], dtype=int64))\n"
     ]
    }
   ],
   "source": [
    "print(np.unique(y_dset, return_counts=True))"
   ]
  },
  {
   "cell_type": "markdown",
   "metadata": {},
   "source": [
    "### Train Model \n",
    "* Train model in Keras "
   ]
  },
  {
   "cell_type": "code",
   "execution_count": 196,
   "metadata": {},
   "outputs": [],
   "source": [
    "def split_dataset(X_dset, y_dset, val_size=0.15, test_size=0.15): \n",
    "    X_train, X_test, y_train, y_test = train_test_split(\n",
    "        X_dset, y_dset, test_size=test_size, random_state=42\n",
    "    )\n",
    "    \n",
    "    print('X_train shape: ', X_train.shape)\n",
    "    print('y_train shape: ', y_train.shape)\n",
    "    \n",
    "    print('X_test shape: ', X_test.shape)\n",
    "    print('y_test shape: ', y_test.shape)\n",
    "    return X_train, X_test, y_train, y_test\n",
    "\n",
    "def create_dsets(X_train, X_test, y_train, y_test, batch_size=16): \n",
    "    train_dset = tf.data.Dataset.from_tensor_slices((X_train, y_train)).batch(batch_size)\n",
    "    test_dset = tf.data.Dataset.from_tensor_slices((X_test, y_test)).batch(batch_size)\n",
    "    return train_dset, test_dset"
   ]
  },
  {
   "cell_type": "code",
   "execution_count": 200,
   "metadata": {},
   "outputs": [
    {
     "name": "stdout",
     "output_type": "stream",
     "text": [
      "X_train shape:  (29455, 300)\n",
      "y_train shape:  (29455,)\n",
      "X_test shape:  (5198, 300)\n",
      "y_test shape:  (5198,)\n"
     ]
    }
   ],
   "source": [
    "X_train, X_test, y_train, y_test = split_dataset(X_dset, y_dset)\n",
    "train_dset, test_dset = create_dsets(X_train, X_test, y_train, y_test)"
   ]
  },
  {
   "cell_type": "code",
   "execution_count": 201,
   "metadata": {},
   "outputs": [],
   "source": [
    "HIDDEN_UNITS = 128\n",
    "EPOCHS = 25"
   ]
  },
  {
   "cell_type": "code",
   "execution_count": 205,
   "metadata": {},
   "outputs": [
    {
     "name": "stdout",
     "output_type": "stream",
     "text": [
      "Model: \"sequential_1\"\n",
      "_________________________________________________________________\n",
      "Layer (type)                 Output Shape              Param #   \n",
      "=================================================================\n",
      "dense_3 (Dense)              (None, 128)               38528     \n",
      "_________________________________________________________________\n",
      "dense_4 (Dense)              (None, 128)               16512     \n",
      "_________________________________________________________________\n",
      "dense_5 (Dense)              (None, 3)                 387       \n",
      "=================================================================\n",
      "Total params: 55,427\n",
      "Trainable params: 55,427\n",
      "Non-trainable params: 0\n",
      "_________________________________________________________________\n"
     ]
    }
   ],
   "source": [
    "def create_model(hidden_units): \n",
    "    model = tf.keras.Sequential()\n",
    "    input_layer = tf.keras.layers.Input(shape=(300,))\n",
    "    hidden_layer_1 = tf.keras.layers.Dense(hidden_units, activation='relu')\n",
    "    hidden_layer_2 = tf.keras.layers.Dense(hidden_units, activation='relu')\n",
    "    # hidden_layer_3 = tf.keras.layers.Dense(hidden_units/2, activation='relu')\n",
    "    output_layer = tf.keras.layers.Dense(3, activation='softmax')\n",
    "    model.add(input_layer)\n",
    "    model.add(hidden_layer_1)\n",
    "    model.add(hidden_layer_2)\n",
    "    # model.add(hidden_layer_3)\n",
    "    model.add(output_layer)\n",
    "    model.compile(optimizer='adam', loss='sparse_categorical_crossentropy', \n",
    "                  metrics=['accuracy'])\n",
    "    model.summary()\n",
    "    return model\n",
    "\n",
    "model = create_model(HIDDEN_UNITS)"
   ]
  },
  {
   "cell_type": "code",
   "execution_count": 206,
   "metadata": {},
   "outputs": [],
   "source": [
    "def plot(p1, p2=None, title='Plot', x_label='', y_label='', p1_legend=None, p2_legend=None): \n",
    "    plt.figure()\n",
    "    plt.plot(range(len(p1)), p1, label=p1_legend)\n",
    "    if p2 is not None: \n",
    "        plt.plot(range(len(p2)), p2, label=p2_legend)\n",
    "    plt.title(title)\n",
    "    plt.xlabel(x_label)\n",
    "    plt.ylabel(y_label)\n",
    "    plt.legend()\n",
    "    plt.show()   "
   ]
  },
  {
   "cell_type": "code",
   "execution_count": 207,
   "metadata": {},
   "outputs": [
    {
     "name": "stdout",
     "output_type": "stream",
     "text": [
      "Epoch 1/25\n",
      "1841/1841 [==============================] - 4s 2ms/step - loss: 0.9964 - accuracy: 0.4736 - val_loss: 0.9310 - val_accuracy: 0.5375\n",
      "Epoch 2/25\n",
      "1841/1841 [==============================] - 3s 1ms/step - loss: 0.9154 - accuracy: 0.5487 - val_loss: 0.9109 - val_accuracy: 0.5606\n",
      "Epoch 3/25\n",
      "1841/1841 [==============================] - 3s 1ms/step - loss: 0.8803 - accuracy: 0.5788 - val_loss: 0.8907 - val_accuracy: 0.5770\n",
      "Epoch 4/25\n",
      "1841/1841 [==============================] - 3s 1ms/step - loss: 0.8513 - accuracy: 0.5980 - val_loss: 0.8830 - val_accuracy: 0.5841\n",
      "Epoch 5/25\n",
      "1841/1841 [==============================] - 3s 1ms/step - loss: 0.8259 - accuracy: 0.6180 - val_loss: 0.8823 - val_accuracy: 0.5893\n",
      "Epoch 6/25\n",
      "1841/1841 [==============================] - 3s 1ms/step - loss: 0.8050 - accuracy: 0.6312 - val_loss: 0.8920 - val_accuracy: 0.5904\n",
      "Epoch 7/25\n",
      "1841/1841 [==============================] - 3s 1ms/step - loss: 0.7848 - accuracy: 0.6440 - val_loss: 0.8793 - val_accuracy: 0.6064\n",
      "Epoch 8/25\n",
      "1841/1841 [==============================] - 3s 1ms/step - loss: 0.7671 - accuracy: 0.6526 - val_loss: 0.9022 - val_accuracy: 0.5920\n",
      "Epoch 9/25\n",
      "1841/1841 [==============================] - 3s 1ms/step - loss: 0.7515 - accuracy: 0.6613 - val_loss: 0.8972 - val_accuracy: 0.6041\n",
      "Epoch 10/25\n",
      "1841/1841 [==============================] - 3s 1ms/step - loss: 0.7355 - accuracy: 0.6700 - val_loss: 0.9129 - val_accuracy: 0.6004\n",
      "Epoch 11/25\n",
      "1841/1841 [==============================] - 3s 1ms/step - loss: 0.7209 - accuracy: 0.6774 - val_loss: 0.9179 - val_accuracy: 0.6066\n",
      "Epoch 12/25\n",
      "1841/1841 [==============================] - 3s 1ms/step - loss: 0.7055 - accuracy: 0.6858 - val_loss: 0.9979 - val_accuracy: 0.5839\n",
      "Epoch 13/25\n",
      "1841/1841 [==============================] - 3s 1ms/step - loss: 0.6936 - accuracy: 0.6930 - val_loss: 1.0146 - val_accuracy: 0.5975\n",
      "Epoch 14/25\n",
      "1841/1841 [==============================] - 3s 1ms/step - loss: 0.6811 - accuracy: 0.7002 - val_loss: 0.9431 - val_accuracy: 0.6172\n",
      "Epoch 15/25\n",
      "1841/1841 [==============================] - 3s 1ms/step - loss: 0.6668 - accuracy: 0.7056 - val_loss: 1.0037 - val_accuracy: 0.6079\n",
      "Epoch 16/25\n",
      "1841/1841 [==============================] - 3s 1ms/step - loss: 0.6491 - accuracy: 0.7167 - val_loss: 1.0194 - val_accuracy: 0.6116\n",
      "Epoch 17/25\n",
      "1841/1841 [==============================] - 3s 1ms/step - loss: 0.6364 - accuracy: 0.7241 - val_loss: 1.0633 - val_accuracy: 0.6072\n",
      "Epoch 18/25\n",
      "1841/1841 [==============================] - 3s 1ms/step - loss: 0.6215 - accuracy: 0.7309 - val_loss: 1.0319 - val_accuracy: 0.6197\n",
      "Epoch 19/25\n",
      "1841/1841 [==============================] - 3s 1ms/step - loss: 0.6133 - accuracy: 0.7354 - val_loss: 1.0354 - val_accuracy: 0.6220\n",
      "Epoch 20/25\n",
      "1841/1841 [==============================] - 3s 1ms/step - loss: 0.6007 - accuracy: 0.7425 - val_loss: 1.1309 - val_accuracy: 0.6097\n",
      "Epoch 21/25\n",
      "1841/1841 [==============================] - 3s 1ms/step - loss: 0.5908 - accuracy: 0.7450 - val_loss: 1.0889 - val_accuracy: 0.6208\n",
      "Epoch 22/25\n",
      "1841/1841 [==============================] - 3s 1ms/step - loss: 0.5807 - accuracy: 0.7508 - val_loss: 1.1134 - val_accuracy: 0.6202\n",
      "Epoch 23/25\n",
      "1841/1841 [==============================] - 3s 1ms/step - loss: 0.5740 - accuracy: 0.7524 - val_loss: 1.1180 - val_accuracy: 0.6214\n",
      "Epoch 24/25\n",
      "1841/1841 [==============================] - 3s 1ms/step - loss: 0.5601 - accuracy: 0.7593 - val_loss: 1.1308 - val_accuracy: 0.6310\n",
      "Epoch 25/25\n",
      "1841/1841 [==============================] - 3s 1ms/step - loss: 0.5544 - accuracy: 0.7635 - val_loss: 1.1454 - val_accuracy: 0.6220\n"
     ]
    }
   ],
   "source": [
    "hist = model.fit(train_dset, validation_data=test_dset, epochs=EPOCHS)"
   ]
  },
  {
   "cell_type": "code",
   "execution_count": 208,
   "metadata": {},
   "outputs": [
    {
     "data": {
      "image/png": "[encoded data removed]",
      "text/plain": [
       "<Figure size 432x288 with 1 Axes>"
      ]
     },
     "metadata": {
      "needs_background": "light"
     },
     "output_type": "display_data"
    }
   ],
   "source": [
    "plot(hist.history['loss'], p2=hist.history['val_loss'], \n",
    "             title='Training and Validation Loss', x_label='Epoch', y_label='Loss Value', \n",
    "            p1_legend='Training loss', p2_legend='Validation loss')"
   ]
  },
  {
   "cell_type": "markdown",
   "metadata": {},
   "source": [
    "### Model Save"
   ]
  },
  {
   "cell_type": "code",
   "execution_count": 209,
   "metadata": {},
   "outputs": [
    {
     "name": "stdout",
     "output_type": "stream",
     "text": [
      "INFO:tensorflow:Assets written to: ./models/polarity_model\\assets\n"
     ]
    }
   ],
   "source": [
    "model_filepath = './models/polarity_model'\n",
    "model.save(model_filepath)"
   ]
  },
  {
   "cell_type": "markdown",
   "metadata": {},
   "source": [
    "### Model Evaluation"
   ]
  },
  {
   "cell_type": "code",
   "execution_count": 210,
   "metadata": {},
   "outputs": [],
   "source": [
    "y_pred = model.predict(test_dset)"
   ]
  },
  {
   "cell_type": "code",
   "execution_count": 220,
   "metadata": {},
   "outputs": [
    {
     "name": "stdout",
     "output_type": "stream",
     "text": [
      "[2 1 0 ... 2 1 1]\n",
      "[2 2 0 ... 0 1 2]\n"
     ]
    }
   ],
   "source": [
    "y_pred_idx = np.argmax(y_pred, axis=1)\n",
    "print(y_pred_idx)\n",
    "print(y_test)"
   ]
  },
  {
   "cell_type": "code",
   "execution_count": 221,
   "metadata": {},
   "outputs": [
    {
     "name": "stdout",
     "output_type": "stream",
     "text": [
      "counts for pred:  (array([0, 1, 2], dtype=int64), array([2309,  822, 2067], dtype=int64))\n",
      "counts for true:  (array([0, 1, 2]), array([2116,  920, 2162], dtype=int64))\n"
     ]
    }
   ],
   "source": [
    "print('counts for pred: ', np.unique(y_pred_idx, return_counts=True))\n",
    "print('counts for true: ', np.unique(y_test, return_counts=True))"
   ]
  },
  {
   "cell_type": "markdown",
   "metadata": {},
   "source": [
    "### Model Implementation"
   ]
  },
  {
   "cell_type": "code",
   "execution_count": null,
   "metadata": {},
   "outputs": [],
   "source": [
    "async def ai_impression(transcript, wv):\n",
    "    embedding = preprocess_text()\n",
    "\n",
    "    model_filepath = './static/models/ted_analysis_model'\n",
    "    model = tf.keras.models.load_model(model_filepath)\n",
    "    \n",
    "    pred = model.predict(embedding)[0]\n",
    "    cols = ['Beautiful', 'Confusing', 'Courageous', 'Funny', 'Informative', 'Ingenious', 'Inspiring', 'Longwinded', 'Unconvincing', 'Fascinating', 'Jaw-dropping', 'Persuasive', 'OK', 'Obnoxious']\n",
    "\n",
    "    ted_dict = {}\n",
    "    for val, col in zip(pred, cols):\n",
    "        ted_dict[col] = val\n",
    "    \n",
    "    word_result = max(ted_dict, key=ted_dict.get)\n",
    "\n",
    "    return word_result"
   ]
  },
  {
   "cell_type": "code",
   "execution_count": null,
   "metadata": {},
   "outputs": [],
   "source": [
    "def get_polarity(text, model_filepath): \n",
    "    '''\n",
    "    This function takes in the raw text of an article, preprocesses it, and computes\n",
    "    a polarity score as a double from the deep learning model. \n",
    "    '''\n",
    "    \n",
    "    embedding = preprocess_text(text)\n",
    "    \n",
    "    model = tf.keras.models.load_model(model_filepath)\n",
    "    pred = model.predict(embedding)[0]\n",
    "    \n",
    "    def compute_polarity(pred): \n",
    "        '''\n",
    "        This function computes a weighted sum of labels to get a quantitative\n",
    "        polarity score.\n",
    "        '''\n",
    "        left = pred[0]\n",
    "        center = pred[1]\n",
    "        right = pred[2]\n",
    "        \n",
    "        polarity = left*0 + center*(0.5) + right*(1)\n",
    "        return polarity\n",
    "    \n",
    "    polarity = compute_polarity(pred)\n",
    "    \n",
    "    return polarity"
   ]
  },
  {
   "cell_type": "code",
   "execution_count": null,
   "metadata": {},
   "outputs": [],
   "source": [
    "model = keras.load_model(model_filepath)\n",
    "\n",
    "# polarity = get_polarity(text, model)"
   ]
  },
  {
   "cell_type": "code",
   "execution_count": null,
   "metadata": {},
   "outputs": [],
   "source": [
    "def init_alg():\n",
    "    wv = api.load('word2vec-google-news-300')"
   ]
  },
  {
   "cell_type": "code",
   "execution_count": null,
   "metadata": {},
   "outputs": [],
   "source": []
  }
 ],
 "metadata": {
  "kernelspec": {
   "display_name": "Python 3",
   "language": "python",
   "name": "python3"
  },
  "language_info": {
   "codemirror_mode": {
    "name": "ipython",
    "version": 3
   },
   "file_extension": ".py",
   "mimetype": "text/x-python",
   "name": "python",
   "nbconvert_exporter": "python",
   "pygments_lexer": "ipython3",
   "version": "3.7.6"
  }
 },
 "nbformat": 4,
 "nbformat_minor": 4
}
